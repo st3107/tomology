{
 "cells": [
  {
   "cell_type": "markdown",
   "id": "separated-treatment",
   "metadata": {},
   "source": [
    "# Filter out valid data"
   ]
  },
  {
   "cell_type": "code",
   "execution_count": 2,
   "id": "formal-tracy",
   "metadata": {},
   "outputs": [],
   "source": [
    "import pathlib\n",
    "import databroker\n",
    "\n",
    "db = databroker.catalog[\"xpd\"]\n",
    "results = db.search({\"proposal_id\": \"307690\"})\n",
    "uids = [uid for uid, run in results.items() if run.metadata['stop']['exit_status'] == 'success']"
   ]
  },
  {
   "cell_type": "code",
   "execution_count": 8,
   "id": "dirty-beaver",
   "metadata": {},
   "outputs": [],
   "source": [
    "# make a table of uid and their important metadata\n",
    "import pandas as pd\n",
    "\n",
    "\n",
    "samples, tasks, beams = [], [], []\n",
    "for uid in uids:\n",
    "    start = db[uid].metadata['start']\n",
    "    samples.append(start.get(\"sample\", ''))\n",
    "    tasks.append(start.get(\"task\", ''))\n",
    "    beams.append(start.get(\"beam\", ''))\n",
    "df = pd.DataFrame({\"uid\": uids, \"sample\": samples, \"task\": tasks, \"beam\": beams})\n",
    "df.to_csv(\"data/uid.csv\", index=False)"
   ]
  },
  {
   "cell_type": "code",
   "execution_count": null,
   "id": "daily-gallery",
   "metadata": {},
   "outputs": [],
   "source": []
  }
 ],
 "metadata": {
  "kernelspec": {
   "display_name": "Python [conda env:khalifah]",
   "language": "python",
   "name": "conda-env-khalifah-py"
  },
  "language_info": {
   "codemirror_mode": {
    "name": "ipython",
    "version": 3
   },
   "file_extension": ".py",
   "mimetype": "text/x-python",
   "name": "python",
   "nbconvert_exporter": "python",
   "pygments_lexer": "ipython3",
   "version": "3.8.8"
  }
 },
 "nbformat": 4,
 "nbformat_minor": 5
}
